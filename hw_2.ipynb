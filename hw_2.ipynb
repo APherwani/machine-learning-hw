{
 "cells": [
  {
   "cell_type": "code",
   "execution_count": 199,
   "metadata": {},
   "outputs": [],
   "source": [
    "import pandas as pd\n",
    "import numpy as np\n",
    "import scipy as sc\n",
    "import matplotlib.pyplot as plt\n",
    "from sklearn.naive_bayes import GaussianNB as gnb\n",
    "from sklearn.model_selection import train_test_split\n",
    "from sklearn.svm import SVC\n",
    "from sklearn.metrics import plot_confusion_matrix as cf_matrix"
   ]
  },
  {
   "cell_type": "code",
   "execution_count": 200,
   "metadata": {},
   "outputs": [],
   "source": [
    "glass_file_path = \"glass.csv\"\n",
    "df = pd.read_csv(glass_file_path)"
   ]
  },
  {
   "cell_type": "markdown",
   "metadata": {},
   "source": [
    "The features in this dataset are the refractive index and weight percentage of Na, Mg, Al, Si, K, Ca, Ba, and Fe.\n",
    "The classes in this set include each type of glass which are: building windows, vehicle windows (non float processed), vehicle windows (float processed), containers, tableware and headlamps."
   ]
  },
  {
   "cell_type": "code",
   "execution_count": 201,
   "metadata": {},
   "outputs": [
    {
     "data": {
      "text/plain": [
       "[0.32710280373831774,\n",
       " 0.35514018691588783,\n",
       " 0.0794392523364486,\n",
       " 0.0,\n",
       " 0.06074766355140187,\n",
       " 0.04205607476635514,\n",
       " 0.13551401869158877]"
      ]
     },
     "execution_count": 201,
     "metadata": {},
     "output_type": "execute_result"
    }
   ],
   "source": [
    "# calculating class priors\n",
    "class_priors = []\n",
    "num_classes = 7\n",
    "for i in range(num_classes):\n",
    "    class_priors.append(len(df[df['Type'] == i+1])/len(df))\n",
    "class_priors"
   ]
  },
  {
   "cell_type": "markdown",
   "metadata": {},
   "source": [
    "One of the prior values is 0. Which means there are no samples of that. So the distribution is uneven"
   ]
  },
  {
   "cell_type": "code",
   "execution_count": 202,
   "metadata": {},
   "outputs": [
    {
     "data": {
      "text/plain": [
       "2.176533992398201"
      ]
     },
     "execution_count": 202,
     "metadata": {},
     "output_type": "execute_result"
    }
   ],
   "source": [
    "# Entropy\n",
    "entropy = 0.0\n",
    "for i in range(len(class_priors)):\n",
    "    if class_priors[i] != 0:\n",
    "        entropy += -1*class_priors[i]*np.log2(class_priors[i])\n",
    "entropy"
   ]
  },
  {
   "cell_type": "code",
   "execution_count": 203,
   "metadata": {},
   "outputs": [
    {
     "data": {
      "text/html": [
       "<div>\n",
       "<style scoped>\n",
       "    .dataframe tbody tr th:only-of-type {\n",
       "        vertical-align: middle;\n",
       "    }\n",
       "\n",
       "    .dataframe tbody tr th {\n",
       "        vertical-align: top;\n",
       "    }\n",
       "\n",
       "    .dataframe thead th {\n",
       "        text-align: right;\n",
       "    }\n",
       "</style>\n",
       "<table border=\"1\" class=\"dataframe\">\n",
       "  <thead>\n",
       "    <tr style=\"text-align: right;\">\n",
       "      <th></th>\n",
       "      <th>RI</th>\n",
       "      <th>Na</th>\n",
       "      <th>Mg</th>\n",
       "      <th>Al</th>\n",
       "      <th>Si</th>\n",
       "      <th>K</th>\n",
       "      <th>Ca</th>\n",
       "      <th>Ba</th>\n",
       "      <th>Fe</th>\n",
       "      <th>Type</th>\n",
       "    </tr>\n",
       "  </thead>\n",
       "  <tbody>\n",
       "    <tr>\n",
       "      <th>count</th>\n",
       "      <td>70.000000</td>\n",
       "      <td>70.000000</td>\n",
       "      <td>70.000000</td>\n",
       "      <td>70.000000</td>\n",
       "      <td>70.000000</td>\n",
       "      <td>70.000000</td>\n",
       "      <td>70.000000</td>\n",
       "      <td>70.000000</td>\n",
       "      <td>70.000000</td>\n",
       "      <td>70.0</td>\n",
       "    </tr>\n",
       "    <tr>\n",
       "      <th>mean</th>\n",
       "      <td>1.518718</td>\n",
       "      <td>13.242286</td>\n",
       "      <td>3.552429</td>\n",
       "      <td>1.163857</td>\n",
       "      <td>72.619143</td>\n",
       "      <td>0.447429</td>\n",
       "      <td>8.797286</td>\n",
       "      <td>0.012714</td>\n",
       "      <td>0.057000</td>\n",
       "      <td>1.0</td>\n",
       "    </tr>\n",
       "    <tr>\n",
       "      <th>std</th>\n",
       "      <td>0.002268</td>\n",
       "      <td>0.499301</td>\n",
       "      <td>0.247043</td>\n",
       "      <td>0.273158</td>\n",
       "      <td>0.569484</td>\n",
       "      <td>0.214879</td>\n",
       "      <td>0.574807</td>\n",
       "      <td>0.083838</td>\n",
       "      <td>0.089075</td>\n",
       "      <td>0.0</td>\n",
       "    </tr>\n",
       "    <tr>\n",
       "      <th>min</th>\n",
       "      <td>1.512150</td>\n",
       "      <td>12.450000</td>\n",
       "      <td>2.710000</td>\n",
       "      <td>0.290000</td>\n",
       "      <td>71.350000</td>\n",
       "      <td>0.000000</td>\n",
       "      <td>7.780000</td>\n",
       "      <td>0.000000</td>\n",
       "      <td>0.000000</td>\n",
       "      <td>1.0</td>\n",
       "    </tr>\n",
       "    <tr>\n",
       "      <th>25%</th>\n",
       "      <td>1.517540</td>\n",
       "      <td>12.825000</td>\n",
       "      <td>3.480000</td>\n",
       "      <td>1.112500</td>\n",
       "      <td>72.080000</td>\n",
       "      <td>0.200000</td>\n",
       "      <td>8.430000</td>\n",
       "      <td>0.000000</td>\n",
       "      <td>0.000000</td>\n",
       "      <td>1.0</td>\n",
       "    </tr>\n",
       "    <tr>\n",
       "      <th>50%</th>\n",
       "      <td>1.517835</td>\n",
       "      <td>13.195000</td>\n",
       "      <td>3.565000</td>\n",
       "      <td>1.230000</td>\n",
       "      <td>72.815000</td>\n",
       "      <td>0.560000</td>\n",
       "      <td>8.675000</td>\n",
       "      <td>0.000000</td>\n",
       "      <td>0.000000</td>\n",
       "      <td>1.0</td>\n",
       "    </tr>\n",
       "    <tr>\n",
       "      <th>75%</th>\n",
       "      <td>1.519560</td>\n",
       "      <td>13.525000</td>\n",
       "      <td>3.657500</td>\n",
       "      <td>1.327500</td>\n",
       "      <td>73.017500</td>\n",
       "      <td>0.590000</td>\n",
       "      <td>9.052500</td>\n",
       "      <td>0.000000</td>\n",
       "      <td>0.110000</td>\n",
       "      <td>1.0</td>\n",
       "    </tr>\n",
       "    <tr>\n",
       "      <th>max</th>\n",
       "      <td>1.526670</td>\n",
       "      <td>14.770000</td>\n",
       "      <td>4.490000</td>\n",
       "      <td>1.690000</td>\n",
       "      <td>73.700000</td>\n",
       "      <td>0.690000</td>\n",
       "      <td>10.170000</td>\n",
       "      <td>0.690000</td>\n",
       "      <td>0.310000</td>\n",
       "      <td>1.0</td>\n",
       "    </tr>\n",
       "  </tbody>\n",
       "</table>\n",
       "</div>"
      ],
      "text/plain": [
       "              RI         Na         Mg         Al         Si          K  \\\n",
       "count  70.000000  70.000000  70.000000  70.000000  70.000000  70.000000   \n",
       "mean    1.518718  13.242286   3.552429   1.163857  72.619143   0.447429   \n",
       "std     0.002268   0.499301   0.247043   0.273158   0.569484   0.214879   \n",
       "min     1.512150  12.450000   2.710000   0.290000  71.350000   0.000000   \n",
       "25%     1.517540  12.825000   3.480000   1.112500  72.080000   0.200000   \n",
       "50%     1.517835  13.195000   3.565000   1.230000  72.815000   0.560000   \n",
       "75%     1.519560  13.525000   3.657500   1.327500  73.017500   0.590000   \n",
       "max     1.526670  14.770000   4.490000   1.690000  73.700000   0.690000   \n",
       "\n",
       "              Ca         Ba         Fe  Type  \n",
       "count  70.000000  70.000000  70.000000  70.0  \n",
       "mean    8.797286   0.012714   0.057000   1.0  \n",
       "std     0.574807   0.083838   0.089075   0.0  \n",
       "min     7.780000   0.000000   0.000000   1.0  \n",
       "25%     8.430000   0.000000   0.000000   1.0  \n",
       "50%     8.675000   0.000000   0.000000   1.0  \n",
       "75%     9.052500   0.000000   0.110000   1.0  \n",
       "max    10.170000   0.690000   0.310000   1.0  "
      ]
     },
     "execution_count": 203,
     "metadata": {},
     "output_type": "execute_result"
    }
   ],
   "source": [
    "# dictionary for fitted gaussian data\n",
    "dict = {}\n",
    "for i in range(num_classes):\n",
    "    temp = df[df['Type'] == i+1].describe()\n",
    "    dict.update({i+1 : temp})\n",
    "dict.get(1)"
   ]
  },
  {
   "cell_type": "code",
   "execution_count": 204,
   "metadata": {},
   "outputs": [
    {
     "data": {
      "text/plain": [
       "0.3910426939754559"
      ]
     },
     "execution_count": 204,
     "metadata": {},
     "output_type": "execute_result"
    }
   ],
   "source": [
    "# Gaussian Probability Distribution Function\n",
    "sc.stats.norm.pdf(0.2)"
   ]
  },
  {
   "cell_type": "code",
   "execution_count": 205,
   "metadata": {},
   "outputs": [
    {
     "name": "stdout",
     "output_type": "stream",
     "text": [
      "[1]\n"
     ]
    }
   ],
   "source": [
    "# naive bayes\n",
    "x = [[0.5, 0.7], [0.2, 0.3]]\n",
    "y = [1, 2]\n",
    "model = gnb()\n",
    "model.fit(x,y)\n",
    "p = [[0.2, 0.7]]\n",
    "print(model.predict(p))"
   ]
  },
  {
   "cell_type": "code",
   "execution_count": 206,
   "metadata": {},
   "outputs": [],
   "source": [
    "x = df.drop([\"Type\"], axis=1)\n",
    "y = df[\"Type\"]"
   ]
  },
  {
   "cell_type": "code",
   "execution_count": 207,
   "metadata": {},
   "outputs": [
    {
     "data": {
      "text/plain": [
       "155    3\n",
       "154    3\n",
       "77     2\n",
       "86     2\n",
       "193    7\n",
       "      ..\n",
       "139    2\n",
       "105    2\n",
       "108    2\n",
       "187    7\n",
       "8      1\n",
       "Name: Type, Length: 171, dtype: int64"
      ]
     },
     "execution_count": 207,
     "metadata": {},
     "output_type": "execute_result"
    }
   ],
   "source": [
    "x_train, x_test, y_train, y_test  = train_test_split(x, y, test_size=0.2, random_state=8290)\n",
    "y_train"
   ]
  },
  {
   "cell_type": "code",
   "execution_count": 208,
   "metadata": {},
   "outputs": [
    {
     "data": {
      "text/plain": [
       "SVC(C=5, gamma='auto', kernel='linear')"
      ]
     },
     "execution_count": 208,
     "metadata": {},
     "output_type": "execute_result"
    }
   ],
   "source": [
    "linear_model = SVC(kernel=\"linear\", C=5, gamma=\"auto\")\n",
    "linear_model.fit(x_train, y_train)"
   ]
  },
  {
   "cell_type": "code",
   "execution_count": 209,
   "metadata": {},
   "outputs": [
    {
     "data": {
      "text/plain": [
       "SVC(C=5, gamma='auto')"
      ]
     },
     "execution_count": 209,
     "metadata": {},
     "output_type": "execute_result"
    }
   ],
   "source": [
    "radial_model = SVC(kernel=\"rbf\", C=5, gamma=\"auto\")\n",
    "radial_model.fit(x_train, y_train)"
   ]
  },
  {
   "cell_type": "code",
   "execution_count": 210,
   "metadata": {},
   "outputs": [
    {
     "data": {
      "text/plain": [
       "0.6511627906976745"
      ]
     },
     "execution_count": 210,
     "metadata": {},
     "output_type": "execute_result"
    }
   ],
   "source": [
    "linear_model.score(x_test, y_test)"
   ]
  },
  {
   "cell_type": "code",
   "execution_count": 211,
   "metadata": {},
   "outputs": [
    {
     "data": {
      "text/plain": [
       "0.7674418604651163"
      ]
     },
     "execution_count": 211,
     "metadata": {},
     "output_type": "execute_result"
    }
   ],
   "source": [
    "radial_model.score(x_test, y_test)"
   ]
  },
  {
   "cell_type": "markdown",
   "metadata": {},
   "source": [
    "The radial model performs a lot better than the linear model."
   ]
  },
  {
   "cell_type": "code",
   "execution_count": 212,
   "metadata": {},
   "outputs": [
    {
     "data": {
      "image/png": "[encoded data removed]",
      "text/plain": [
       "<Figure size 432x288 with 2 Axes>"
      ]
     },
     "metadata": {
      "needs_background": "light"
     },
     "output_type": "display_data"
    }
   ],
   "source": [
    "# plotting normalized confusion matrix\n",
    "temp = y.unique()\n",
    "confusion_matrix = cf_matrix(radial_model, x_test, y_test,display_labels=temp, cmap=plt.cm.Blues, normalize=\"true\")"
   ]
  },
  {
   "cell_type": "code",
   "execution_count": 213,
   "metadata": {},
   "outputs": [
    {
     "data": {
      "text/plain": [
       "Text(0, 0.5, 'Performance')"
      ]
     },
     "execution_count": 213,
     "metadata": {},
     "output_type": "execute_result"
    },
    {
     "data": {
      "image/png": "[encoded data removed]",
      "text/plain": [
       "<Figure size 432x288 with 1 Axes>"
      ]
     },
     "metadata": {
      "needs_background": "light"
     },
     "output_type": "display_data"
    }
   ],
   "source": [
    "hyper_params = [0.01, 0.1, 0.5, 1, 2, 3, 4, 5, 7, 10, 15, 20]\n",
    "perf = []\n",
    "for i in hyper_params:\n",
    "    model = SVC(kernel=\"rbf\", C=i, gamma=\"auto\")\n",
    "    model.fit(x_train, y_train)\n",
    "    temp = model.score(x_test, y_test)\n",
    "    perf.append(temp)\n",
    "plt.plot(hyper_params, perf)\n",
    "plt.xlabel(\"C\")\n",
    "plt.ylabel(\"Performance\")"
   ]
  },
  {
   "cell_type": "code",
   "execution_count": 214,
   "metadata": {},
   "outputs": [
    {
     "data": {
      "text/plain": [
       "array([[1.51720e+00, 1.33800e+01, 3.50000e+00, ..., 8.43000e+00,\n",
       "        0.00000e+00, 0.00000e+00],\n",
       "       [1.51775e+00, 1.28500e+01, 3.48000e+00, ..., 8.56000e+00,\n",
       "        9.00000e-02, 2.20000e-01],\n",
       "       [1.51736e+00, 1.27800e+01, 3.62000e+00, ..., 8.70000e+00,\n",
       "        0.00000e+00, 0.00000e+00],\n",
       "       ...,\n",
       "       [1.51508e+00, 1.51500e+01, 0.00000e+00, ..., 8.34000e+00,\n",
       "        6.30000e-01, 0.00000e+00],\n",
       "       [1.51556e+00, 1.38700e+01, 0.00000e+00, ..., 9.41000e+00,\n",
       "        8.10000e-01, 1.00000e-02],\n",
       "       [1.52315e+00, 1.34400e+01, 3.34000e+00, ..., 8.83000e+00,\n",
       "        0.00000e+00, 0.00000e+00]])"
      ]
     },
     "execution_count": 214,
     "metadata": {},
     "output_type": "execute_result"
    }
   ],
   "source": [
    "radial_model.support_vectors_"
   ]
  },
  {
   "cell_type": "markdown",
   "metadata": {},
   "source": [
    "An improvement might be to try different C values with other kernels like sigmoid with C=5 since that seemed to perform best for radial."
   ]
  },
  {
   "cell_type": "code",
   "execution_count": 215,
   "metadata": {},
   "outputs": [
    {
     "data": {
      "text/plain": [
       "0.2558139534883721"
      ]
     },
     "execution_count": 215,
     "metadata": {},
     "output_type": "execute_result"
    }
   ],
   "source": [
    "sigmoid_model = SVC(kernel=\"sigmoid\", C=5, gamma=\"auto\")\n",
    "sigmoid_model.fit(x_train, y_train)\n",
    "sigmoid_model.score(x_test, y_test)"
   ]
  },
  {
   "cell_type": "markdown",
   "metadata": {},
   "source": [
    "That had a significantly worse performance."
   ]
  }
 ],
 "metadata": {
  "kernelspec": {
   "display_name": "Python 3",
   "language": "python",
   "name": "python3"
  },
  "language_info": {
   "codemirror_mode": {
    "name": "ipython",
    "version": 3
   },
   "file_extension": ".py",
   "mimetype": "text/x-python",
   "name": "python",
   "nbconvert_exporter": "python",
   "pygments_lexer": "ipython3",
   "version": "3.8.3"
  }
 },
 "nbformat": 4,
 "nbformat_minor": 4
}
